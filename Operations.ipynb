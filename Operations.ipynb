{
  "nbformat": 4,
  "nbformat_minor": 0,
  "metadata": {
    "colab": {
      "provenance": [],
      "authorship_tag": "ABX9TyM8CYJaXMdACePvM8DGkfrL",
      "include_colab_link": true
    },
    "kernelspec": {
      "name": "python3",
      "display_name": "Python 3"
    },
    "language_info": {
      "name": "python"
    }
  },
  "cells": [
    {
      "cell_type": "markdown",
      "metadata": {
        "id": "view-in-github",
        "colab_type": "text"
      },
      "source": [
        "<a href=\"https://colab.research.google.com/github/Nahgalvao/Basic_Python/blob/main/Operations.ipynb\" target=\"_parent\"><img src=\"https://colab.research.google.com/assets/colab-badge.svg\" alt=\"Open In Colab\"/></a>"
      ]
    },
    {
      "cell_type": "markdown",
      "source": [
        "#Operations"
      ],
      "metadata": {
        "id": "z8TB7E_tcUmS"
      }
    },
    {
      "cell_type": "markdown",
      "source": [
        "## Simple accounts"
      ],
      "metadata": {
        "id": "_gS3-7uCcZv0"
      }
    },
    {
      "cell_type": "code",
      "source": [
        "4 + 7"
      ],
      "metadata": {
        "colab": {
          "base_uri": "https://localhost:8080/"
        },
        "id": "9LsgqcRfclFy",
        "outputId": "71bec5df-adbf-4b70-ed63-03912be9c92e"
      },
      "execution_count": null,
      "outputs": [
        {
          "output_type": "execute_result",
          "data": {
            "text/plain": [
              "11"
            ]
          },
          "metadata": {},
          "execution_count": 1
        }
      ]
    },
    {
      "cell_type": "code",
      "source": [
        "name = \"Natalia\"\n",
        "age = 25\n",
        "print(f'My name is {name} and my age is {age} years')"
      ],
      "metadata": {
        "colab": {
          "base_uri": "https://localhost:8080/"
        },
        "id": "4tN2VNMdcXuq",
        "outputId": "00d65038-2d18-47ea-8647-2a3b0d8b14fd"
      },
      "execution_count": null,
      "outputs": [
        {
          "output_type": "stream",
          "name": "stdout",
          "text": [
            "My name is Natalia and my age is 25 years\n"
          ]
        }
      ]
    },
    {
      "cell_type": "markdown",
      "source": [
        "## Subtraction"
      ],
      "metadata": {
        "id": "_7OqI2zycyYe"
      }
    },
    {
      "cell_type": "code",
      "source": [
        "7 - 4"
      ],
      "metadata": {
        "colab": {
          "base_uri": "https://localhost:8080/"
        },
        "id": "n1JptYAJcuvp",
        "outputId": "51c1cb25-9893-4941-d5fa-704040398a72"
      },
      "execution_count": null,
      "outputs": [
        {
          "output_type": "execute_result",
          "data": {
            "text/plain": [
              "3"
            ]
          },
          "metadata": {},
          "execution_count": 3
        }
      ]
    },
    {
      "cell_type": "markdown",
      "source": [
        "## Division \n",
        "## float = float (puts decimal places in values resulting from divisions for example)"
      ],
      "metadata": {
        "id": "Tn2hlBCEdNxF"
      }
    },
    {
      "cell_type": "code",
      "source": [
        "8 / 2"
      ],
      "metadata": {
        "colab": {
          "base_uri": "https://localhost:8080/"
        },
        "id": "FRxPzeWadIVa",
        "outputId": "68fb17be-0bba-473f-e4d2-4545c8c1273e"
      },
      "execution_count": null,
      "outputs": [
        {
          "output_type": "execute_result",
          "data": {
            "text/plain": [
              "4.0"
            ]
          },
          "metadata": {},
          "execution_count": 4
        }
      ]
    },
    {
      "cell_type": "markdown",
      "source": [
        "## Multiplication"
      ],
      "metadata": {
        "id": "gULf2PWadV3n"
      }
    },
    {
      "cell_type": "code",
      "source": [
        "11*7"
      ],
      "metadata": {
        "colab": {
          "base_uri": "https://localhost:8080/"
        },
        "id": "fnsxP7S6dUW_",
        "outputId": "156110cf-2f03-419c-86b6-3515899861df"
      },
      "execution_count": null,
      "outputs": [
        {
          "output_type": "execute_result",
          "data": {
            "text/plain": [
              "77"
            ]
          },
          "metadata": {},
          "execution_count": 5
        }
      ]
    },
    {
      "cell_type": "markdown",
      "source": [
        "## Exponentiation"
      ],
      "metadata": {
        "id": "9pOchOScdf7w"
      }
    },
    {
      "cell_type": "code",
      "source": [
        "8**2"
      ],
      "metadata": {
        "colab": {
          "base_uri": "https://localhost:8080/"
        },
        "id": "gWw1FU8XddqU",
        "outputId": "8f393e27-5320-4262-d0d5-83e9053fca85"
      },
      "execution_count": null,
      "outputs": [
        {
          "output_type": "execute_result",
          "data": {
            "text/plain": [
              "64"
            ]
          },
          "metadata": {},
          "execution_count": 6
        }
      ]
    },
    {
      "cell_type": "markdown",
      "source": [
        "## Division showing only the integer part"
      ],
      "metadata": {
        "id": "nz1wmQ8Ydotg"
      }
    },
    {
      "cell_type": "code",
      "source": [
        "11 // 2"
      ],
      "metadata": {
        "colab": {
          "base_uri": "https://localhost:8080/"
        },
        "id": "jg6RXEBjdn4M",
        "outputId": "212fddda-6d6d-4da2-bad5-b4049d7aa90a"
      },
      "execution_count": null,
      "outputs": [
        {
          "output_type": "execute_result",
          "data": {
            "text/plain": [
              "5"
            ]
          },
          "metadata": {},
          "execution_count": 7
        }
      ]
    },
    {
      "cell_type": "markdown",
      "source": [
        "## Division showing remainder"
      ],
      "metadata": {
        "id": "SjJiV2Xwdv7P"
      }
    },
    {
      "cell_type": "code",
      "source": [
        "11 % 2"
      ],
      "metadata": {
        "colab": {
          "base_uri": "https://localhost:8080/"
        },
        "id": "1HMscRMldvCd",
        "outputId": "c0004227-246f-4079-b59f-a74b0cc0b8b2"
      },
      "execution_count": null,
      "outputs": [
        {
          "output_type": "execute_result",
          "data": {
            "text/plain": [
              "1"
            ]
          },
          "metadata": {},
          "execution_count": 8
        }
      ]
    },
    {
      "cell_type": "markdown",
      "source": [
        "## Type"
      ],
      "metadata": {
        "id": "98BhZG9Zd28E"
      }
    },
    {
      "cell_type": "code",
      "source": [
        "a = 7 - 4\n",
        "print(type(a))"
      ],
      "metadata": {
        "colab": {
          "base_uri": "https://localhost:8080/"
        },
        "id": "KYMl22kcd2KW",
        "outputId": "b28dc0c2-0c97-4990-ec0d-91676d2396f0"
      },
      "execution_count": null,
      "outputs": [
        {
          "output_type": "stream",
          "name": "stdout",
          "text": [
            "<class 'int'>\n"
          ]
        }
      ]
    },
    {
      "cell_type": "code",
      "source": [
        "b = 7 - 4.0\n",
        "print(type(b))"
      ],
      "metadata": {
        "colab": {
          "base_uri": "https://localhost:8080/"
        },
        "id": "updu72I6d7Xg",
        "outputId": "a65ba332-89b3-4950-dbf8-d0e4af816ce9"
      },
      "execution_count": null,
      "outputs": [
        {
          "output_type": "stream",
          "name": "stdout",
          "text": [
            "<class 'float'>\n"
          ]
        }
      ]
    },
    {
      "cell_type": "code",
      "source": [
        "c = \"quatro\"\n",
        "print(type(c))"
      ],
      "metadata": {
        "colab": {
          "base_uri": "https://localhost:8080/"
        },
        "id": "dXmB64aSd9Lw",
        "outputId": "db111838-831b-46c5-d5b5-4072b993d9c6"
      },
      "execution_count": null,
      "outputs": [
        {
          "output_type": "stream",
          "name": "stdout",
          "text": [
            "<class 'str'>\n"
          ]
        }
      ]
    },
    {
      "cell_type": "code",
      "source": [
        "d = 4 + 2j\n",
        "print(type(d))"
      ],
      "metadata": {
        "colab": {
          "base_uri": "https://localhost:8080/"
        },
        "id": "s11UluaLd_hU",
        "outputId": "6b5b40d6-029b-4fb7-9942-82d8c856c5cb"
      },
      "execution_count": null,
      "outputs": [
        {
          "output_type": "stream",
          "name": "stdout",
          "text": [
            "<class 'complex'>\n"
          ]
        }
      ]
    },
    {
      "cell_type": "code",
      "source": [
        "e = True\n",
        "print(type(e))"
      ],
      "metadata": {
        "colab": {
          "base_uri": "https://localhost:8080/"
        },
        "id": "Qw0JFZkjeBLg",
        "outputId": "f4255290-d68c-4986-f3bd-ad3938d27445"
      },
      "execution_count": null,
      "outputs": [
        {
          "output_type": "stream",
          "name": "stdout",
          "text": [
            "<class 'bool'>\n"
          ]
        }
      ]
    },
    {
      "cell_type": "code",
      "source": [
        "f = False\n",
        "print(type(f))"
      ],
      "metadata": {
        "colab": {
          "base_uri": "https://localhost:8080/"
        },
        "id": "45RnxS2WeDW7",
        "outputId": "0cd472b4-46a2-4d0f-d3f3-bca11224e3d2"
      },
      "execution_count": null,
      "outputs": [
        {
          "output_type": "stream",
          "name": "stdout",
          "text": [
            "<class 'bool'>\n"
          ]
        }
      ]
    },
    {
      "cell_type": "code",
      "source": [
        "a = 2\n",
        "b = 3\n",
        "print(a+b)"
      ],
      "metadata": {
        "colab": {
          "base_uri": "https://localhost:8080/"
        },
        "id": "OkpEe-iweFRu",
        "outputId": "395536fa-73f9-4705-872e-5905a091d5e6"
      },
      "execution_count": null,
      "outputs": [
        {
          "output_type": "stream",
          "name": "stdout",
          "text": [
            "5\n"
          ]
        }
      ]
    },
    {
      "cell_type": "code",
      "source": [
        "a = 2\n",
        "b = 3\n",
        "c = a + b\n",
        "print (c)"
      ],
      "metadata": {
        "colab": {
          "base_uri": "https://localhost:8080/"
        },
        "id": "tiWv4u_6eHuF",
        "outputId": "7893af8b-1a04-43ad-f670-7ba7ba40e264"
      },
      "execution_count": null,
      "outputs": [
        {
          "output_type": "stream",
          "name": "stdout",
          "text": [
            "5\n"
          ]
        }
      ]
    },
    {
      "cell_type": "code",
      "source": [
        "print (2+3)"
      ],
      "metadata": {
        "colab": {
          "base_uri": "https://localhost:8080/"
        },
        "id": "KOH2YIlgeJ52",
        "outputId": "0888c653-ad6a-4ee0-ccae-14257074b0e4"
      },
      "execution_count": null,
      "outputs": [
        {
          "output_type": "stream",
          "name": "stdout",
          "text": [
            "5\n"
          ]
        }
      ]
    },
    {
      "cell_type": "markdown",
      "source": [
        "# Exercices"
      ],
      "metadata": {
        "id": "4-q61Gs_eQVz"
      }
    },
    {
      "cell_type": "code",
      "source": [
        "# salary = 3000.00 raise = 5%\n",
        "a = 3000.00\n",
        "b = 5\n",
        "nsal = a +(a*(b/100))\n",
        "print(nsal)"
      ],
      "metadata": {
        "colab": {
          "base_uri": "https://localhost:8080/"
        },
        "id": "30VUWi0neY2u",
        "outputId": "aaa28542-06bd-469d-d27e-34866f2c4c70"
      },
      "execution_count": null,
      "outputs": [
        {
          "output_type": "stream",
          "name": "stdout",
          "text": [
            "3150.0\n"
          ]
        }
      ]
    },
    {
      "cell_type": "code",
      "source": [
        "a = 1\n",
        "b = 5\n",
        "c = 2\n",
        "d = 1\n",
        "\n",
        "a == b # is a equal to b?"
      ],
      "metadata": {
        "colab": {
          "base_uri": "https://localhost:8080/"
        },
        "id": "s-uUN5LRebDx",
        "outputId": "355da117-0820-4979-cbb5-b17406224544"
      },
      "execution_count": null,
      "outputs": [
        {
          "output_type": "execute_result",
          "data": {
            "text/plain": [
              "False"
            ]
          },
          "metadata": {},
          "execution_count": 19
        }
      ]
    },
    {
      "cell_type": "code",
      "source": [
        "a<b # is a greater than b?"
      ],
      "metadata": {
        "colab": {
          "base_uri": "https://localhost:8080/"
        },
        "id": "iJ2VrByLee3z",
        "outputId": "aacd5bdc-fba1-429b-ad9b-87a687cbabce"
      },
      "execution_count": null,
      "outputs": [
        {
          "output_type": "execute_result",
          "data": {
            "text/plain": [
              "True"
            ]
          },
          "metadata": {},
          "execution_count": 20
        }
      ]
    },
    {
      "cell_type": "code",
      "source": [
        "b>a # is b less than a?"
      ],
      "metadata": {
        "colab": {
          "base_uri": "https://localhost:8080/"
        },
        "id": "8BM8QpDfejZG",
        "outputId": "1dbb9deb-606e-4f50-9d64-a55d7ecefdc7"
      },
      "execution_count": null,
      "outputs": [
        {
          "output_type": "execute_result",
          "data": {
            "text/plain": [
              "True"
            ]
          },
          "metadata": {},
          "execution_count": 21
        }
      ]
    },
    {
      "cell_type": "code",
      "source": [
        "a == d # is a equal to b?"
      ],
      "metadata": {
        "colab": {
          "base_uri": "https://localhost:8080/"
        },
        "id": "iFwd5tboem0B",
        "outputId": "05e341d6-eb01-474a-ba3e-ba38f8efab76"
      },
      "execution_count": null,
      "outputs": [
        {
          "output_type": "execute_result",
          "data": {
            "text/plain": [
              "True"
            ]
          },
          "metadata": {},
          "execution_count": 22
        }
      ]
    },
    {
      "cell_type": "code",
      "source": [
        "c <= b #c is greater than or equal to b?"
      ],
      "metadata": {
        "colab": {
          "base_uri": "https://localhost:8080/"
        },
        "id": "-jqfCNxWes_9",
        "outputId": "d1e0a765-e88f-4e7e-bebf-9c3e8f17e90f"
      },
      "execution_count": null,
      "outputs": [
        {
          "output_type": "execute_result",
          "data": {
            "text/plain": [
              "True"
            ]
          },
          "metadata": {},
          "execution_count": 23
        }
      ]
    },
    {
      "cell_type": "code",
      "source": [
        "d != a # (!=) means different / d is different from a?"
      ],
      "metadata": {
        "colab": {
          "base_uri": "https://localhost:8080/"
        },
        "id": "UwAfIWkVewR5",
        "outputId": "5ea81c8d-def2-4446-ba1e-6d69ea81f5fd"
      },
      "execution_count": null,
      "outputs": [
        {
          "output_type": "execute_result",
          "data": {
            "text/plain": [
              "False"
            ]
          },
          "metadata": {},
          "execution_count": 25
        }
      ]
    },
    {
      "cell_type": "code",
      "source": [
        "d != b # d is different from b?"
      ],
      "metadata": {
        "colab": {
          "base_uri": "https://localhost:8080/"
        },
        "id": "ERhxZNPxey0r",
        "outputId": "9c425635-782e-4a25-e612-2b3ac6a24e64"
      },
      "execution_count": null,
      "outputs": [
        {
          "output_type": "execute_result",
          "data": {
            "text/plain": [
              "True"
            ]
          },
          "metadata": {},
          "execution_count": 26
        }
      ]
    },
    {
      "cell_type": "code",
      "source": [],
      "metadata": {
        "id": "J2ZcHhZge5yD"
      },
      "execution_count": null,
      "outputs": []
    }
  ]
}