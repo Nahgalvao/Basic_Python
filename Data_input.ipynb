{
  "nbformat": 4,
  "nbformat_minor": 0,
  "metadata": {
    "colab": {
      "provenance": [],
      "authorship_tag": "ABX9TyMPLz9EahNcgY/U7in8zBJp",
      "include_colab_link": true
    },
    "kernelspec": {
      "name": "python3",
      "display_name": "Python 3"
    },
    "language_info": {
      "name": "python"
    }
  },
  "cells": [
    {
      "cell_type": "markdown",
      "metadata": {
        "id": "view-in-github",
        "colab_type": "text"
      },
      "source": [
        "<a href=\"https://colab.research.google.com/github/Nahgalvao/Basic_Python/blob/main/Data_input.ipynb\" target=\"_parent\"><img src=\"https://colab.research.google.com/assets/colab-badge.svg\" alt=\"Open In Colab\"/></a>"
      ]
    },
    {
      "cell_type": "markdown",
      "source": [
        "#Data input"
      ],
      "metadata": {
        "id": "IQzT4FV7jDLW"
      }
    },
    {
      "cell_type": "code",
      "source": [
        "name = input(\"What is your name?\")\n",
        "print(\"Hello + name\")"
      ],
      "metadata": {
        "colab": {
          "base_uri": "https://localhost:8080/"
        },
        "id": "lTBTg1DEjKw9",
        "outputId": "817bdc9e-3349-4a73-febd-ff4de0eeed25"
      },
      "execution_count": null,
      "outputs": [
        {
          "output_type": "stream",
          "name": "stdout",
          "text": [
            "What is your name?Natalia\n",
            "Hello + name\n"
          ]
        }
      ]
    },
    {
      "cell_type": "code",
      "source": [
        "x = input(\"Enter a number: \")\n",
        "print(x)"
      ],
      "metadata": {
        "colab": {
          "base_uri": "https://localhost:8080/"
        },
        "id": "E9IDGMxUjNxQ",
        "outputId": "08e91594-cb22-4bd4-f136-93d549021bda"
      },
      "execution_count": null,
      "outputs": [
        {
          "output_type": "stream",
          "name": "stdout",
          "text": [
            "Enter a number: 5\n",
            "5\n"
          ]
        }
      ]
    },
    {
      "cell_type": "code",
      "source": [
        "#calculate bonus with variable years and value per year\n",
        "years = int(input(\"Enter the number of years working: \"))\n",
        "value_per_year = float(input(\"Enter value: \"))\n",
        "bonus = value_per_year * years\n",
        "print(f'The amount of the bonus will be {bonus}')"
      ],
      "metadata": {
        "colab": {
          "base_uri": "https://localhost:8080/"
        },
        "id": "wuEU1Km8jdrH",
        "outputId": "568c720f-9137-4470-a96c-7203fffbf351"
      },
      "execution_count": null,
      "outputs": [
        {
          "output_type": "stream",
          "name": "stdout",
          "text": [
            "Enter the number of years working: 10\n",
            "Enter value: 2.000\n",
            "The amount of the bonus will be 20.0\n"
          ]
        }
      ]
    },
    {
      "cell_type": "code",
      "source": [
        "# Convert Celsius to Fahrenheit # Integer value\n",
        "c = int(input(\"Temperature in Celsius (c): \"))\n",
        "f = 9*c/5+32\n",
        "print(\"%.f degrees celsius equals %.f degrees Fahrenheit\" %(c,f))"
      ],
      "metadata": {
        "colab": {
          "base_uri": "https://localhost:8080/"
        },
        "id": "sm3BrA_6jich",
        "outputId": "287f191d-86f9-480e-e847-50d33d254903"
      },
      "execution_count": null,
      "outputs": [
        {
          "output_type": "stream",
          "name": "stdout",
          "text": [
            "Temperature in Celsius (c): 25\n",
            "25 degrees celsius equals 77 degrees Fahrenheit\n"
          ]
        }
      ]
    },
    {
      "cell_type": "code",
      "source": [
        "# Convert Celsius to Fahrenheit #Broken value\n",
        "c = float(input(\"Temperature in Celsius (c): \"))\n",
        "f = 9*c/5+32\n",
        "print(\"%.2f degrees celsius equals %.2f degrees Fahrenheit\" %(c,f))"
      ],
      "metadata": {
        "colab": {
          "base_uri": "https://localhost:8080/"
        },
        "id": "_iMHHCl9jqrY",
        "outputId": "2dfc9ad0-cb33-4947-f7ff-04648c4d8507"
      },
      "execution_count": null,
      "outputs": [
        {
          "output_type": "stream",
          "name": "stdout",
          "text": [
            "Temperature in Celsius (c): 25.8\n",
            "25.80 degrees celsius equals 78.44 degrees Fahrenheit\n"
          ]
        }
      ]
    },
    {
      "cell_type": "code",
      "source": [
        "mass = float(input(\"What is your weight?(mass): \"))\n",
        "h = float(input(\"How tall are you?(h): \"))\n",
        "imc = mass/h**2\n",
        "print(\"your imc is from %.2f\"%(imc))"
      ],
      "metadata": {
        "colab": {
          "base_uri": "https://localhost:8080/"
        },
        "id": "5Xrc_2Eijv9N",
        "outputId": "734a8024-3ad4-424c-a5c1-6bc9fc30faf6"
      },
      "execution_count": null,
      "outputs": [
        {
          "output_type": "stream",
          "name": "stdout",
          "text": [
            "What is your weight?(mass): 52\n",
            "How tall are you?(h): 1.55\n",
            "your imc is from 21.64\n"
          ]
        }
      ]
    },
    {
      "cell_type": "markdown",
      "source": [
        "##Rounded"
      ],
      "metadata": {
        "id": "YReRmfu0kXDo"
      }
    },
    {
      "cell_type": "code",
      "source": [
        "# if rounding the previous exercise\n",
        "round(imc, 2)"
      ],
      "metadata": {
        "colab": {
          "base_uri": "https://localhost:8080/"
        },
        "id": "z5RbyhvPkPHZ",
        "outputId": "2fce5b6d-5171-488c-8064-7e34dcba5e7d"
      },
      "execution_count": null,
      "outputs": [
        {
          "output_type": "execute_result",
          "data": {
            "text/plain": [
              "21.64"
            ]
          },
          "metadata": {},
          "execution_count": 8
        }
      ]
    },
    {
      "cell_type": "code",
      "source": [
        "# what happens when you do:\n",
        "print(\"your imc is from %.2f\"%(imc))"
      ],
      "metadata": {
        "colab": {
          "base_uri": "https://localhost:8080/"
        },
        "id": "TCguoosykWT4",
        "outputId": "9e322889-3092-45fa-a5ed-c1b1fa1931d5"
      },
      "execution_count": null,
      "outputs": [
        {
          "output_type": "stream",
          "name": "stdout",
          "text": [
            "your imc is from 21.64\n"
          ]
        }
      ]
    }
  ]
}