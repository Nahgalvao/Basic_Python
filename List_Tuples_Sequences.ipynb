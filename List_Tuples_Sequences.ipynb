{
  "nbformat": 4,
  "nbformat_minor": 0,
  "metadata": {
    "colab": {
      "provenance": [],
      "authorship_tag": "ABX9TyPHvhSbF4gdEydbVtSuhRrm",
      "include_colab_link": true
    },
    "kernelspec": {
      "name": "python3",
      "display_name": "Python 3"
    },
    "language_info": {
      "name": "python"
    }
  },
  "cells": [
    {
      "cell_type": "markdown",
      "metadata": {
        "id": "view-in-github",
        "colab_type": "text"
      },
      "source": [
        "<a href=\"https://colab.research.google.com/github/Nahgalvao/Basic_Python/blob/main/List_Tuples_Sequences.ipynb\" target=\"_parent\"><img src=\"https://colab.research.google.com/assets/colab-badge.svg\" alt=\"Open In Colab\"/></a>"
      ]
    },
    {
      "cell_type": "markdown",
      "source": [
        "#List, Tuples and Sequences"
      ],
      "metadata": {
        "id": "5DNV2nKd6P-J"
      }
    },
    {
      "cell_type": "code",
      "source": [
        "# String\n",
        "x = \"frog\"\n",
        "print(x[3])\n",
        "\n",
        "# list\n",
        "x = ['pig', 'cow', 'horse']\n",
        "print(x[1])"
      ],
      "metadata": {
        "colab": {
          "base_uri": "https://localhost:8080/"
        },
        "id": "JE85htm16TI8",
        "outputId": "a5705b77-fb31-48bb-955b-738e76505daf"
      },
      "execution_count": null,
      "outputs": [
        {
          "output_type": "stream",
          "name": "stdout",
          "text": [
            "g\n",
            "cow\n"
          ]
        }
      ]
    },
    {
      "cell_type": "code",
      "source": [
        "x = 'Computer'\n",
        "\n",
        "print(x[1:4])"
      ],
      "metadata": {
        "colab": {
          "base_uri": "https://localhost:8080/"
        },
        "id": "JxP9K6Ib6V0_",
        "outputId": "30a1038f-9399-4943-8408-49655cb44bff"
      },
      "execution_count": null,
      "outputs": [
        {
          "output_type": "stream",
          "name": "stdout",
          "text": [
            "omp\n"
          ]
        }
      ]
    },
    {
      "cell_type": "code",
      "source": [
        "x = 'Computer'\n",
        "\n",
        "print(x[1:6:2]) # will print from the 2nd to the 5th element 2 by 2"
      ],
      "metadata": {
        "colab": {
          "base_uri": "https://localhost:8080/"
        },
        "id": "FK0WGVcs6YUD",
        "outputId": "1782d27e-a032-4d5d-e460-06dd6c0f15a6"
      },
      "execution_count": null,
      "outputs": [
        {
          "output_type": "stream",
          "name": "stdout",
          "text": [
            "opt\n"
          ]
        }
      ]
    },
    {
      "cell_type": "code",
      "source": [
        "print(x[3:])"
      ],
      "metadata": {
        "colab": {
          "base_uri": "https://localhost:8080/"
        },
        "id": "nL20UPhM6bsR",
        "outputId": "12bd995a-783e-458f-a0a0-e858901ec488"
      },
      "execution_count": null,
      "outputs": [
        {
          "output_type": "stream",
          "name": "stdout",
          "text": [
            "puter\n"
          ]
        }
      ]
    },
    {
      "cell_type": "code",
      "source": [
        "print(x[:5]) # up to the 4th element"
      ],
      "metadata": {
        "colab": {
          "base_uri": "https://localhost:8080/"
        },
        "id": "opgGt32g6eFm",
        "outputId": "30775ba0-b353-4169-c80f-2344d038abb1"
      },
      "execution_count": null,
      "outputs": [
        {
          "output_type": "stream",
          "name": "stdout",
          "text": [
            "Compu\n"
          ]
        }
      ]
    },
    {
      "cell_type": "code",
      "source": [
        "print(x[-1]) # last element"
      ],
      "metadata": {
        "colab": {
          "base_uri": "https://localhost:8080/"
        },
        "id": "RMrOArAT6hi6",
        "outputId": "fed52cea-38e5-49fe-d705-1b79fdd77e3c"
      },
      "execution_count": null,
      "outputs": [
        {
          "output_type": "stream",
          "name": "stdout",
          "text": [
            "r\n"
          ]
        }
      ]
    },
    {
      "cell_type": "code",
      "source": [
        "print(x[-3:]) # from the last three onwards"
      ],
      "metadata": {
        "colab": {
          "base_uri": "https://localhost:8080/"
        },
        "id": "ie7JeK_o6j81",
        "outputId": "0db9cc74-b027-4dea-96d2-2bf69bdf1315"
      },
      "execution_count": null,
      "outputs": [
        {
          "output_type": "stream",
          "name": "stdout",
          "text": [
            "ter\n"
          ]
        }
      ]
    },
    {
      "cell_type": "code",
      "source": [
        "print(x[:-2]) # All elements except the penultimate ones"
      ],
      "metadata": {
        "colab": {
          "base_uri": "https://localhost:8080/"
        },
        "id": "vaxZGm7E6m4s",
        "outputId": "5281003b-5e2e-42f2-ddb6-10a7a5119785"
      },
      "execution_count": null,
      "outputs": [
        {
          "output_type": "stream",
          "name": "stdout",
          "text": [
            "Comput\n"
          ]
        }
      ]
    }
  ]
}