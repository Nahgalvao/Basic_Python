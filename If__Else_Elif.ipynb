{
  "nbformat": 4,
  "nbformat_minor": 0,
  "metadata": {
    "colab": {
      "provenance": [],
      "authorship_tag": "ABX9TyOM1L+fGGbCjO+zkj3l09hf",
      "include_colab_link": true
    },
    "kernelspec": {
      "name": "python3",
      "display_name": "Python 3"
    },
    "language_info": {
      "name": "python"
    }
  },
  "cells": [
    {
      "cell_type": "markdown",
      "metadata": {
        "id": "view-in-github",
        "colab_type": "text"
      },
      "source": [
        "<a href=\"https://colab.research.google.com/github/Nahgalvao/Basic_Python/blob/main/If__Else_Elif.ipynb\" target=\"_parent\"><img src=\"https://colab.research.google.com/assets/colab-badge.svg\" alt=\"Open In Colab\"/></a>"
      ]
    },
    {
      "cell_type": "markdown",
      "source": [
        "#IF"
      ],
      "metadata": {
        "id": "OvLglwW6krso"
      }
    },
    {
      "cell_type": "code",
      "source": [
        "# Example of using if\n",
        "a = int(input(\"Enter the number: \"))\n",
        "b = int(input(\"Enter the second number: \"))\n",
        "if a > b:\n",
        "   print(\"The first value is greater\")\n",
        "if b > a:\n",
        "   print(\"The second value is greater\")"
      ],
      "metadata": {
        "colab": {
          "base_uri": "https://localhost:8080/"
        },
        "id": "xf05-ODakt8F",
        "outputId": "85c1619a-1d0d-414d-c7c7-d6b2acdc34db"
      },
      "execution_count": null,
      "outputs": [
        {
          "output_type": "stream",
          "name": "stdout",
          "text": [
            "Enter the number: 2\n",
            "Enter the second number: 10\n",
            "The second value is greater\n"
          ]
        }
      ]
    },
    {
      "cell_type": "code",
      "source": [
        "a = int(input(\"Enter the number: \"))\n",
        "b = int(input(\"Enter the second number: \"))\n",
        "if a > b:\n",
        "   print(\"The first value is greater\")\n",
        "if b > a:\n",
        "   print(\"The second value is greater\")"
      ],
      "metadata": {
        "colab": {
          "base_uri": "https://localhost:8080/"
        },
        "id": "k3wTvfuFk1hV",
        "outputId": "762ac2b7-889c-4b30-92e7-e9677c1427d6"
      },
      "execution_count": null,
      "outputs": [
        {
          "output_type": "stream",
          "name": "stdout",
          "text": [
            "Enter the number: 3\n",
            "Enter the second number: 10\n",
            "The second value is greater\n"
          ]
        }
      ]
    },
    {
      "cell_type": "markdown",
      "source": [
        "#Else"
      ],
      "metadata": {
        "id": "uMEB4N4BlAAE"
      }
    },
    {
      "cell_type": "code",
      "source": [
        "a = int(input(\"Enter the number: \"))\n",
        "b = int(input(\"Enter the second number: \"))\n",
        "if a > b:\n",
        "   print(\"The first value is greater\")\n",
        "else:\n",
        "   print(\"The second value is greater\")"
      ],
      "metadata": {
        "colab": {
          "base_uri": "https://localhost:8080/"
        },
        "id": "emncJwe-k8sG",
        "outputId": "2ba65d75-8a07-4739-d6c4-3db452ec9596"
      },
      "execution_count": null,
      "outputs": [
        {
          "output_type": "stream",
          "name": "stdout",
          "text": [
            "Enter the number: 10\n",
            "Enter the second number: 2\n",
            "The first value is greater\n"
          ]
        }
      ]
    },
    {
      "cell_type": "code",
      "source": [
        "a = int(input(\"Enter the number: \"))\n",
        "if a/2 == 0:\n",
        "   print(\"The number is even\")\n",
        "else:\n",
        "   print(\"The value is odd\")"
      ],
      "metadata": {
        "colab": {
          "base_uri": "https://localhost:8080/"
        },
        "id": "UR64550LlbdV",
        "outputId": "a72c6661-85c4-4133-cb82-1a8e19cf14fb"
      },
      "execution_count": null,
      "outputs": [
        {
          "output_type": "stream",
          "name": "stdout",
          "text": [
            "Enter the number: 10\n",
            "The value is odd\n"
          ]
        }
      ]
    },
    {
      "cell_type": "markdown",
      "source": [
        "#Elif"
      ],
      "metadata": {
        "id": "iGg6Wc-jlT_u"
      }
    },
    {
      "cell_type": "code",
      "source": [
        "# BMI: < 18 malnutrition / 18 to 25 normal / 25 to 35 overweight / > 35 obesity\n",
        "\n",
        "mass = float(input(\"What is your weight?(kg): \"))\n",
        "h = float(input(\"How tall are you?(m): \"))\n",
        "imc = mass/h**2\n",
        "imc = round(imc, 2)\n",
        "print(\"your imc is from %.2f\"%(imc))\n",
        "\n",
        "if imc <= 18:\n",
        "   print(\"Malnutrition\")\n",
        "elif imc > 18 and imc <= 25:\n",
        "   print(\"Normal\")\n",
        "elif imc > 25 and imc <= 35:\n",
        "   print(\"Overweight\")\n",
        "else:\n",
        "   print(\"Obesity\")"
      ],
      "metadata": {
        "colab": {
          "base_uri": "https://localhost:8080/"
        },
        "id": "_5nxq2kdlHfJ",
        "outputId": "2ef7bf5b-4b4e-46df-d9b4-571b365a4cc0"
      },
      "execution_count": null,
      "outputs": [
        {
          "output_type": "stream",
          "name": "stdout",
          "text": [
            "What is your weight?(kg): 52\n",
            "How tall are you?(m): 1.55\n",
            "your imc is from 21.64\n",
            "Normal\n"
          ]
        }
      ]
    },
    {
      "cell_type": "code",
      "source": [
        "\"\"\"\n",
        "Root solution of a quadratic equation\n",
        "y = ax**2 + bx + c\n",
        "Entering the values of a, b, c the program calculates the roots\n",
        "\"\"\"\n",
        "a = float(input(\"Enter the first number: \"))\n",
        "b = float(input(\"Enter the second number: \"))\n",
        "c = float(input(\"Enter the third number: \"))\n",
        "\n",
        "# Delta calculation\n",
        "delta = b**2 - 4*a*c\n",
        "print(\"The values of the roots %.f\"%(delta))\n",
        "\n",
        "if delta < 0:\n",
        "   print(\"This equation has no real roots\")\n",
        "elif Delta == 0:\n",
        "   root = -b / 2*a\n",
        "   print(\"The value of the equation is %.f\"%root)\n",
        "else:\n",
        "   root_1 = (-b - (delta**0.5))/(2*a)\n",
        "   root_2 = (-b + (delta**0.5))/(2*a)\n",
        "   print(f\"The roots are {root_1} and {root_2}\")"
      ],
      "metadata": {
        "colab": {
          "base_uri": "https://localhost:8080/"
        },
        "id": "eZ0TjALBli8I",
        "outputId": "c272d96f-3949-46a0-83a8-866b6ebc5d5f"
      },
      "execution_count": null,
      "outputs": [
        {
          "output_type": "stream",
          "name": "stdout",
          "text": [
            "Enter the first number: 5\n",
            "Enter the second number: 8\n",
            "Enter the third number: 11\n",
            "The values of the roots -156\n",
            "This equation has no real roots\n"
          ]
        }
      ]
    },
    {
      "cell_type": "code",
      "source": [
        "a = float(input(\"Enter the first number: \"))\n",
        "b = float(input(\"Enter the second number: \"))\n",
        "c = float(input(\"Enter the third number: \"))\n",
        "\n",
        "# Delta calculation\n",
        "delta = b**2 - 4*a*c\n",
        "print(\"The values of the roots %.f\"%(delta))\n",
        "\n",
        "if delta < 0:\n",
        "   print(\"This equation has no real roots\")\n",
        "elif Delta == 0:\n",
        "   root = -b / 2*a\n",
        "   print(\"The value of the equation is %.f\"%root)\n",
        "else:\n",
        "   root_1 = (-b - (delta**0.5))/(2*a)\n",
        "   root_2 = (-b + (delta**0.5))/(2*a)\n",
        "   print(f\"The roots are {root_1} and {root_2}\")"
      ],
      "metadata": {
        "colab": {
          "base_uri": "https://localhost:8080/"
        },
        "id": "FhPCg3YslqkU",
        "outputId": "7a0df900-c50e-4f17-b81c-c40d8007a6ba"
      },
      "execution_count": null,
      "outputs": [
        {
          "output_type": "stream",
          "name": "stdout",
          "text": [
            "Enter the first number: 7\n",
            "Enter the second number: 25\n",
            "Enter the third number: 50\n",
            "The values of the roots -775\n",
            "This equation has no real roots\n"
          ]
        }
      ]
    },
    {
      "cell_type": "markdown",
      "source": [
        "#Nested Structures"
      ],
      "metadata": {
        "id": "XGcN1-9yl7gI"
      }
    },
    {
      "cell_type": "code",
      "source": [
        "min = int(input(\"How many minutes have you used this month: \"))\n",
        "if min < 200:\n",
        "   price = 0.20\n",
        "else:\n",
        "   if min < 400:\n",
        "     price = 0.18\n",
        "   else:\n",
        "     price = 0.15\n",
        "\n",
        "print(f\"You will pay this month: BRL {min*price:6.2f}\")"
      ],
      "metadata": {
        "colab": {
          "base_uri": "https://localhost:8080/"
        },
        "id": "aKvx_5u4lxjf",
        "outputId": "fd9ae680-df8e-444e-cf1b-f010fd12b45d"
      },
      "execution_count": null,
      "outputs": [
        {
          "output_type": "stream",
          "name": "stdout",
          "text": [
            "How many minutes have you used this month: 300\n",
            "You will pay this month: BRL  54.00\n"
          ]
        }
      ]
    },
    {
      "cell_type": "code",
      "source": [],
      "metadata": {
        "id": "dw49cY-_mA9f"
      },
      "execution_count": null,
      "outputs": []
    }
  ]
}