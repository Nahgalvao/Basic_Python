{
  "nbformat": 4,
  "nbformat_minor": 0,
  "metadata": {
    "colab": {
      "provenance": [],
      "authorship_tag": "ABX9TyN3y1qKtse16Jw9WUx3/a8R",
      "include_colab_link": true
    },
    "kernelspec": {
      "name": "python3",
      "display_name": "Python 3"
    },
    "language_info": {
      "name": "python"
    }
  },
  "cells": [
    {
      "cell_type": "markdown",
      "metadata": {
        "id": "view-in-github",
        "colab_type": "text"
      },
      "source": [
        "<a href=\"https://colab.research.google.com/github/Nahgalvao/Basic_Python/blob/main/Sum_Multiplication.ipynb\" target=\"_parent\"><img src=\"https://colab.research.google.com/assets/colab-badge.svg\" alt=\"Open In Colab\"/></a>"
      ]
    },
    {
      "cell_type": "markdown",
      "source": [
        "#Sum"
      ],
      "metadata": {
        "id": "2jlHj-0Q7KuE"
      }
    },
    {
      "cell_type": "code",
      "source": [
        "x = \"horse\" + 'shoe' # concatenate\n",
        "print(x)"
      ],
      "metadata": {
        "colab": {
          "base_uri": "https://localhost:8080/"
        },
        "id": "Uvq34LCt7NOS",
        "outputId": "c27472af-d06c-48db-cf11-02b1d45143d9"
      },
      "execution_count": null,
      "outputs": [
        {
          "output_type": "stream",
          "name": "stdout",
          "text": [
            "horseshoe\n"
          ]
        }
      ]
    },
    {
      "cell_type": "code",
      "source": [
        "y = [\"pig\", 'cow'] + ['horse']\n",
        "print(y)"
      ],
      "metadata": {
        "id": "8OITfYHN7Q5T"
      },
      "execution_count": null,
      "outputs": []
    },
    {
      "cell_type": "markdown",
      "source": [
        "#Multiplication"
      ],
      "metadata": {
        "id": "uX-PwEVC7bAO"
      }
    },
    {
      "cell_type": "code",
      "source": [
        "#String and List\n",
        "x = \"bug\"*3\n",
        "print(x)"
      ],
      "metadata": {
        "colab": {
          "base_uri": "https://localhost:8080/"
        },
        "id": "7ZqMoJW37crL",
        "outputId": "003139aa-822a-4fc9-d286-2640f136c68d"
      },
      "execution_count": null,
      "outputs": [
        {
          "output_type": "stream",
          "name": "stdout",
          "text": [
            "bugbugbug\n"
          ]
        }
      ]
    },
    {
      "cell_type": "code",
      "source": [
        "y = [8,5]*3\n",
        "print(y)"
      ],
      "metadata": {
        "colab": {
          "base_uri": "https://localhost:8080/"
        },
        "id": "RjQ97nmx7gA0",
        "outputId": "b1e39ff8-b805-4766-9d0d-0f9f4d3e591e"
      },
      "execution_count": null,
      "outputs": [
        {
          "output_type": "stream",
          "name": "stdout",
          "text": [
            "[8, 5, 8, 5, 8, 5]\n"
          ]
        }
      ]
    },
    {
      "cell_type": "code",
      "source": [
        "z = \"_____\"*50\n",
        "print(z)"
      ],
      "metadata": {
        "colab": {
          "base_uri": "https://localhost:8080/"
        },
        "id": "VdqWz2ly7hlZ",
        "outputId": "0df64340-ffff-411d-832c-890a6bd35fb1"
      },
      "execution_count": null,
      "outputs": [
        {
          "output_type": "stream",
          "name": "stdout",
          "text": [
            "__________________________________________________________________________________________________________________________________________________________________________________________________________________________________________________________\n"
          ]
        }
      ]
    },
    {
      "cell_type": "code",
      "source": [
        "x = 'bug'\n",
        "print('f' in x)"
      ],
      "metadata": {
        "colab": {
          "base_uri": "https://localhost:8080/"
        },
        "id": "q_2_O-Ee7lkW",
        "outputId": "d8398776-1341-4578-d34b-be5dc75c8ea1"
      },
      "execution_count": null,
      "outputs": [
        {
          "output_type": "stream",
          "name": "stdout",
          "text": [
            "False\n"
          ]
        }
      ]
    },
    {
      "cell_type": "code",
      "source": [
        "y = [\"pig\", 'cow','horse']\n",
        "print('cow' not in y)"
      ],
      "metadata": {
        "colab": {
          "base_uri": "https://localhost:8080/"
        },
        "id": "JPXdw4Kq7mEL",
        "outputId": "894ef592-176e-4fb9-959d-c08728cf0f60"
      },
      "execution_count": null,
      "outputs": [
        {
          "output_type": "stream",
          "name": "stdout",
          "text": [
            "False\n"
          ]
        }
      ]
    },
    {
      "cell_type": "code",
      "source": [
        "x = 'bug'\n",
        "print(len(x))\n",
        "\n",
        "y = [\"pig\", 'cow','horse'] # Count the number of elements\n",
        "print(len(y))"
      ],
      "metadata": {
        "colab": {
          "base_uri": "https://localhost:8080/"
        },
        "id": "ENTUbirK7ooZ",
        "outputId": "8e71dbc9-5818-4f73-96f4-33574ce8540b"
      },
      "execution_count": null,
      "outputs": [
        {
          "output_type": "stream",
          "name": "stdout",
          "text": [
            "3\n",
            "3\n"
          ]
        }
      ]
    },
    {
      "cell_type": "code",
      "source": [
        "x = 'bug'\n",
        "print(min(x))\n",
        "\n",
        "y = [\"pig\", 'cow','horse'] # Count the MINIMUM number of elements\n",
        "print(min(y))"
      ],
      "metadata": {
        "colab": {
          "base_uri": "https://localhost:8080/"
        },
        "id": "ujEzZVoK7rPN",
        "outputId": "05f4b56f-ccf3-4ecf-c565-2a279951ebcb"
      },
      "execution_count": null,
      "outputs": [
        {
          "output_type": "stream",
          "name": "stdout",
          "text": [
            "b\n",
            "cow\n"
          ]
        }
      ]
    },
    {
      "cell_type": "code",
      "source": [
        "y = [\"pig\", 'cow','horse'] # Sort alphabetically\n",
        "print(sorted(y))"
      ],
      "metadata": {
        "colab": {
          "base_uri": "https://localhost:8080/"
        },
        "id": "RJ869kuk7uwv",
        "outputId": "301ce6b9-3b87-4ce3-9aea-fa34edd7c943"
      },
      "execution_count": null,
      "outputs": [
        {
          "output_type": "stream",
          "name": "stdout",
          "text": [
            "['cow', 'horse', 'pig']\n"
          ]
        }
      ]
    },
    {
      "cell_type": "code",
      "source": [
        "y = [\"pig\", 'cow','horse']    \n",
        "print(max(y))"
      ],
      "metadata": {
        "colab": {
          "base_uri": "https://localhost:8080/"
        },
        "id": "PQsRD8Ov7xlE",
        "outputId": "3c9c15ac-8485-4736-d6fd-7cb28e3f8dc2"
      },
      "execution_count": null,
      "outputs": [
        {
          "output_type": "stream",
          "name": "stdout",
          "text": [
            "pig\n"
          ]
        }
      ]
    },
    {
      "cell_type": "code",
      "source": [
        "help(max)"
      ],
      "metadata": {
        "colab": {
          "base_uri": "https://localhost:8080/"
        },
        "id": "QkIVxp3H7zu-",
        "outputId": "99b02eb5-315f-4fce-97fe-7d28c8b6dac3"
      },
      "execution_count": null,
      "outputs": [
        {
          "output_type": "stream",
          "name": "stdout",
          "text": [
            "Help on built-in function max in module builtins:\n",
            "\n",
            "max(...)\n",
            "    max(iterable, *[, default=obj, key=func]) -> value\n",
            "    max(arg1, arg2, *args, *[, key=func]) -> value\n",
            "    \n",
            "    With a single iterable argument, return its biggest item. The\n",
            "    default keyword-only argument specifies an object to return if\n",
            "    the provided iterable is empty.\n",
            "    With two or more arguments, return the largest argument.\n",
            "\n"
          ]
        }
      ]
    },
    {
      "cell_type": "code",
      "source": [
        "x = \"hippo\"\n",
        "print(x.count('p')) # how many 'p' are in the list"
      ],
      "metadata": {
        "colab": {
          "base_uri": "https://localhost:8080/"
        },
        "id": "rmopSFK871Ou",
        "outputId": "fb7df079-9a6a-4756-b0b2-4f4514df96ec"
      },
      "execution_count": null,
      "outputs": [
        {
          "output_type": "stream",
          "name": "stdout",
          "text": [
            "2\n"
          ]
        }
      ]
    },
    {
      "cell_type": "code",
      "source": [
        "x = ['pig', 'cow', 'horse']\n",
        "a, b, c = x\n",
        "print(a, b, c) # Print in chosen order"
      ],
      "metadata": {
        "colab": {
          "base_uri": "https://localhost:8080/"
        },
        "id": "6SD6Odqo75Fd",
        "outputId": "b5d4078a-4857-4b00-b04d-9e36979ca24b"
      },
      "execution_count": null,
      "outputs": [
        {
          "output_type": "stream",
          "name": "stdout",
          "text": [
            "pig cow horse\n"
          ]
        }
      ]
    },
    {
      "cell_type": "code",
      "source": [
        "x = ['pig', 'cow', 'horse']\n",
        "a, b, c = x\n",
        "print(c, a, b) # Print in chosen order"
      ],
      "metadata": {
        "colab": {
          "base_uri": "https://localhost:8080/"
        },
        "id": "FBYbvFEN77_D",
        "outputId": "7f29d048-a04b-49fd-dc82-e012af75f3c4"
      },
      "execution_count": null,
      "outputs": [
        {
          "output_type": "stream",
          "name": "stdout",
          "text": [
            "horse pig cow\n"
          ]
        }
      ]
    },
    {
      "cell_type": "code",
      "source": [
        "x = {3, 5, 3, 5}\n",
        "print(x) # Do not accept duplicate values"
      ],
      "metadata": {
        "colab": {
          "base_uri": "https://localhost:8080/"
        },
        "id": "IzC36iCC7-8O",
        "outputId": "f5037877-b450-4fa8-d404-daaa1af0afdc"
      },
      "execution_count": null,
      "outputs": [
        {
          "output_type": "stream",
          "name": "stdout",
          "text": [
            "{3, 5}\n"
          ]
        }
      ]
    },
    {
      "cell_type": "code",
      "source": [
        "list = [2, 3, 4, 5]\n",
        "z = set(list)\n",
        "print(z) # Pass to '{}'"
      ],
      "metadata": {
        "colab": {
          "base_uri": "https://localhost:8080/"
        },
        "id": "hmcsisWh8CBE",
        "outputId": "31afb026-8390-4576-fe13-30b7e4e63e3b"
      },
      "execution_count": null,
      "outputs": [
        {
          "output_type": "stream",
          "name": "stdout",
          "text": [
            "{2, 3, 4, 5}\n"
          ]
        }
      ]
    },
    {
      "cell_type": "code",
      "source": [
        "tuple = (1, 2, 3)\n",
        "z = set(tuple)\n",
        "print(z)"
      ],
      "metadata": {
        "colab": {
          "base_uri": "https://localhost:8080/"
        },
        "id": "kgvfozFy8Fv9",
        "outputId": "021a95a4-25a7-497a-a16b-a609ad214896"
      },
      "execution_count": null,
      "outputs": [
        {
          "output_type": "stream",
          "name": "stdout",
          "text": [
            "{1, 2, 3}\n"
          ]
        }
      ]
    },
    {
      "cell_type": "code",
      "source": [
        "tuple = (1, 2, 3)\n",
        "z = set(tuple)\n",
        "print(tuple)\n",
        "print(z)"
      ],
      "metadata": {
        "colab": {
          "base_uri": "https://localhost:8080/"
        },
        "id": "1UElwnyR8JVN",
        "outputId": "8e8c5ae4-33ab-4131-884c-906698a3a717"
      },
      "execution_count": null,
      "outputs": [
        {
          "output_type": "stream",
          "name": "stdout",
          "text": [
            "(1, 2, 3)\n",
            "{1, 2, 3}\n"
          ]
        }
      ]
    },
    {
      "cell_type": "code",
      "source": [
        "z.add(3)\n",
        "print(z) # Don't accept duplicate values"
      ],
      "metadata": {
        "colab": {
          "base_uri": "https://localhost:8080/"
        },
        "id": "JXl06BPl8NL7",
        "outputId": "36cbb698-6cbb-4aba-ca7e-c48a1e40df1c"
      },
      "execution_count": null,
      "outputs": [
        {
          "output_type": "stream",
          "name": "stdout",
          "text": [
            "{1, 2, 3}\n"
          ]
        }
      ]
    },
    {
      "cell_type": "code",
      "source": [
        "z.add(4)\n",
        "print(z)"
      ],
      "metadata": {
        "colab": {
          "base_uri": "https://localhost:8080/"
        },
        "id": "4A8f8bT18RKV",
        "outputId": "e723509f-f385-4780-8049-b9564adda471"
      },
      "execution_count": null,
      "outputs": [
        {
          "output_type": "stream",
          "name": "stdout",
          "text": [
            "{1, 2, 3, 4}\n"
          ]
        }
      ]
    },
    {
      "cell_type": "code",
      "source": [
        "s1 = {1, 2, 3}\n",
        "s2 = {3, 4, 5}\n",
        "print(s1 & s2) # Intercept between s1 and s2"
      ],
      "metadata": {
        "colab": {
          "base_uri": "https://localhost:8080/"
        },
        "id": "rbXI8xCq8Tef",
        "outputId": "a161ffaf-7fb3-4b19-9399-355aa20f85b7"
      },
      "execution_count": null,
      "outputs": [
        {
          "output_type": "stream",
          "name": "stdout",
          "text": [
            "{3}\n"
          ]
        }
      ]
    },
    {
      "cell_type": "code",
      "source": [
        "s1 = {1, 2, 3}\n",
        "s2 = {3, 4, 5}\n",
        "print(s1 ^ s2)             # Pega os elementos que não estão repetidos"
      ],
      "metadata": {
        "colab": {
          "base_uri": "https://localhost:8080/"
        },
        "id": "XqBZe4Pf8X0o",
        "outputId": "c040e9a3-fbcb-4fd3-f5f9-b1525aefa1ec"
      },
      "execution_count": null,
      "outputs": [
        {
          "output_type": "stream",
          "name": "stdout",
          "text": [
            "{1, 2, 4, 5}\n"
          ]
        }
      ]
    },
    {
      "cell_type": "code",
      "source": [
        "s1 = {1, 2, 3}\n",
        "s2 = {3, 4, 5}\n",
        "print(s1 - s2) # Use the last element of 'print' as a base and remove all elements"
      ],
      "metadata": {
        "id": "_b565fXi8ZuL",
        "outputId": "5ee5b0b6-84a0-420e-b476-d110b85eb21a",
        "colab": {
          "base_uri": "https://localhost:8080/"
        }
      },
      "execution_count": null,
      "outputs": [
        {
          "output_type": "stream",
          "name": "stdout",
          "text": [
            "{1, 2}\n"
          ]
        }
      ]
    },
    {
      "cell_type": "code",
      "source": [
        "s1 = {1, 2, 3}\n",
        "s2 = {3, 4, 5}\n",
        "print(s2 - s1)"
      ],
      "metadata": {
        "id": "QQu0vcmM8c8l",
        "outputId": "567936be-931d-46d4-9794-da97d9c4ea08",
        "colab": {
          "base_uri": "https://localhost:8080/"
        }
      },
      "execution_count": null,
      "outputs": [
        {
          "output_type": "stream",
          "name": "stdout",
          "text": [
            "{4, 5}\n"
          ]
        }
      ]
    },
    {
      "cell_type": "code",
      "source": [],
      "metadata": {
        "id": "V6hvoMls8e2i"
      },
      "execution_count": null,
      "outputs": []
    }
  ]
}