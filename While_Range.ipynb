{
  "nbformat": 4,
  "nbformat_minor": 0,
  "metadata": {
    "colab": {
      "provenance": [],
      "authorship_tag": "ABX9TyMIHr0L8iXeG84RcN1e176n",
      "include_colab_link": true
    },
    "kernelspec": {
      "name": "python3",
      "display_name": "Python 3"
    },
    "language_info": {
      "name": "python"
    }
  },
  "cells": [
    {
      "cell_type": "markdown",
      "metadata": {
        "id": "view-in-github",
        "colab_type": "text"
      },
      "source": [
        "<a href=\"https://colab.research.google.com/github/Nahgalvao/Basic_Python/blob/main/While_Range.ipynb\" target=\"_parent\"><img src=\"https://colab.research.google.com/assets/colab-badge.svg\" alt=\"Open In Colab\"/></a>"
      ]
    },
    {
      "cell_type": "markdown",
      "source": [
        "#While"
      ],
      "metadata": {
        "id": "0UlWecIKqXvr"
      }
    },
    {
      "cell_type": "code",
      "source": [
        "color = [\"red\", \"green\", \"blue\", \"yellow\"]\n",
        "i=0\n",
        "while i< len(color):\n",
        "   print(color[i])\n",
        "   i = i + 1"
      ],
      "metadata": {
        "colab": {
          "base_uri": "https://localhost:8080/"
        },
        "id": "RbtEbQX7qaar",
        "outputId": "d0d7f50e-654f-4a10-d69d-355f823e87dd"
      },
      "execution_count": null,
      "outputs": [
        {
          "output_type": "stream",
          "name": "stdout",
          "text": [
            "red\n",
            "green\n",
            "blue\n",
            "yellow\n"
          ]
        }
      ]
    },
    {
      "cell_type": "code",
      "source": [
        "color = [\"red\", \"green\", \"blue\", \"yellow\"]\n",
        "for i in range(len(color)):\n",
        "   print(color[i])"
      ],
      "metadata": {
        "colab": {
          "base_uri": "https://localhost:8080/"
        },
        "id": "GHfuNWsyqczW",
        "outputId": "9a0203fd-d53a-4eff-881b-89f9665f2ac7"
      },
      "execution_count": null,
      "outputs": [
        {
          "output_type": "stream",
          "name": "stdout",
          "text": [
            "red\n",
            "green\n",
            "blue\n",
            "yellow\n"
          ]
        }
      ]
    },
    {
      "cell_type": "markdown",
      "source": [
        "#Range"
      ],
      "metadata": {
        "id": "RfvOYxW2qsRj"
      }
    },
    {
      "cell_type": "markdown",
      "source": [
        "https://pythonacademy.com.br/blog/a-funcao-range-do-python"
      ],
      "metadata": {
        "id": "aKy0ugCbquK4"
      }
    },
    {
      "cell_type": "code",
      "source": [
        "color = [\"red\", \"green\", \"blue\", \"yellow\"]\n",
        "for i in range(len(color)):\n",
        "   print(color[i])"
      ],
      "metadata": {
        "colab": {
          "base_uri": "https://localhost:8080/"
        },
        "id": "vbxxuh_0qgK_",
        "outputId": "d43c2628-8b55-4d2d-ba86-e0ff3e9ed1f0"
      },
      "execution_count": null,
      "outputs": [
        {
          "output_type": "stream",
          "name": "stdout",
          "text": [
            "red\n",
            "green\n",
            "blue\n",
            "yellow\n"
          ]
        }
      ]
    },
    {
      "cell_type": "code",
      "source": [
        "color = [\"red\", \"green\", \"blue\", \"yellow\"]\n",
        "for i in color:\n",
        "   print(i)"
      ],
      "metadata": {
        "colab": {
          "base_uri": "https://localhost:8080/"
        },
        "id": "FuNoPdHwq0P8",
        "outputId": "96cd7b24-f9ce-4f79-9ed6-49512d2d73be"
      },
      "execution_count": null,
      "outputs": [
        {
          "output_type": "stream",
          "name": "stdout",
          "text": [
            "red\n",
            "green\n",
            "blue\n",
            "yellow\n"
          ]
        }
      ]
    },
    {
      "cell_type": "code",
      "source": [
        "grades = [6, 7, 5, 8, 9]\n",
        "sum = 0\n",
        "i = 0\n",
        "\n",
        "while i < len(grades):\n",
        "   sum = sum + grades[i]\n",
        "   i = i + 1\n",
        "   average = sum/i\n",
        "\n",
        "print(average)"
      ],
      "metadata": {
        "colab": {
          "base_uri": "https://localhost:8080/"
        },
        "id": "eKq_vf6Kq3VZ",
        "outputId": "a4407146-5ec6-4db0-ffe0-7d2b006b05fe"
      },
      "execution_count": null,
      "outputs": [
        {
          "output_type": "stream",
          "name": "stdout",
          "text": [
            "7.0\n"
          ]
        }
      ]
    }
  ]
}