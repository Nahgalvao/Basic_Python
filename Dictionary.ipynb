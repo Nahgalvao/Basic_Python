{
  "nbformat": 4,
  "nbformat_minor": 0,
  "metadata": {
    "colab": {
      "provenance": [],
      "authorship_tag": "ABX9TyMlbNMSrZn5774Kvi2ZrOH7",
      "include_colab_link": true
    },
    "kernelspec": {
      "name": "python3",
      "display_name": "Python 3"
    },
    "language_info": {
      "name": "python"
    }
  },
  "cells": [
    {
      "cell_type": "markdown",
      "metadata": {
        "id": "view-in-github",
        "colab_type": "text"
      },
      "source": [
        "<a href=\"https://colab.research.google.com/github/Nahgalvao/Basic_Python/blob/main/Dictionary.ipynb\" target=\"_parent\"><img src=\"https://colab.research.google.com/assets/colab-badge.svg\" alt=\"Open In Colab\"/></a>"
      ]
    },
    {
      "cell_type": "markdown",
      "source": [
        "#Dictionary"
      ],
      "metadata": {
        "id": "Mt-jVxku8z8H"
      }
    },
    {
      "cell_type": "code",
      "source": [
        "x = {'pork': 25.3, 'beef':33.8, 'chicken':22.7}\n",
        "print(x)"
      ],
      "metadata": {
        "colab": {
          "base_uri": "https://localhost:8080/"
        },
        "id": "PCrSJVI481_t",
        "outputId": "13f810e9-ac20-4baa-a3c2-6d6536505000"
      },
      "execution_count": null,
      "outputs": [
        {
          "output_type": "stream",
          "name": "stdout",
          "text": [
            "{'pork': 25.3, 'beef': 33.8, 'chicken': 22.7}\n"
          ]
        }
      ]
    },
    {
      "cell_type": "code",
      "source": [
        "x = dict([('pork', 25.3),('beef', 33.8),('chicken', 22.7)])\n",
        "print(x)"
      ],
      "metadata": {
        "colab": {
          "base_uri": "https://localhost:8080/"
        },
        "id": "66LEuIf887oW",
        "outputId": "8eb1023f-3b9d-4256-ce4e-691b386020d8"
      },
      "execution_count": null,
      "outputs": [
        {
          "output_type": "stream",
          "name": "stdout",
          "text": [
            "{'pork': 25.3, 'beef': 33.8, 'chicken': 22.7}\n"
          ]
        }
      ]
    },
    {
      "cell_type": "code",
      "source": [
        "x['shrimp'] = 38.2 # Added another element to the list\n",
        "print(x)"
      ],
      "metadata": {
        "colab": {
          "base_uri": "https://localhost:8080/"
        },
        "id": "oZKBAmCT8-ok",
        "outputId": "298aadaa-7c33-4876-cfb3-c985fd7e287b"
      },
      "execution_count": null,
      "outputs": [
        {
          "output_type": "stream",
          "name": "stdout",
          "text": [
            "{'pork': 25.3, 'beef': 33.8, 'chicken': 22.7, 'shrimp': 38.2}\n"
          ]
        }
      ]
    },
    {
      "cell_type": "code",
      "source": [
        "print(len(x)) # Count the number of elements in the list"
      ],
      "metadata": {
        "colab": {
          "base_uri": "https://localhost:8080/"
        },
        "id": "VY30zcHg9CC1",
        "outputId": "f3ba5c08-418e-42f5-cf63-48cbab497fa0"
      },
      "execution_count": null,
      "outputs": [
        {
          "output_type": "stream",
          "name": "stdout",
          "text": [
            "4\n"
          ]
        }
      ]
    },
    {
      "cell_type": "code",
      "source": [
        "print(x.keys()) # Print the words in the list"
      ],
      "metadata": {
        "colab": {
          "base_uri": "https://localhost:8080/"
        },
        "id": "dGOIC2aG9HM8",
        "outputId": "1db14aa3-231e-4f38-ccfa-102a77b75ced"
      },
      "execution_count": null,
      "outputs": [
        {
          "output_type": "stream",
          "name": "stdout",
          "text": [
            "dict_keys(['pork', 'beef', 'chicken', 'shrimp'])\n"
          ]
        }
      ]
    },
    {
      "cell_type": "code",
      "source": [
        "print(x.values()) # Print the list values"
      ],
      "metadata": {
        "colab": {
          "base_uri": "https://localhost:8080/"
        },
        "id": "LBc0Jmqp9H2t",
        "outputId": "db998beb-cfb8-4774-efa2-61ccf3883deb"
      },
      "execution_count": null,
      "outputs": [
        {
          "output_type": "stream",
          "name": "stdout",
          "text": [
            "dict_values([25.3, 33.8, 22.7, 38.2])\n"
          ]
        }
      ]
    },
    {
      "cell_type": "code",
      "source": [
        "basket = ['apple', 'orange', 'apple', 'pear', 'orange', 'banana']\n",
        "for i in sorted(basket):\n",
        "    print(i)"
      ],
      "metadata": {
        "colab": {
          "base_uri": "https://localhost:8080/"
        },
        "id": "UlDfAcxa9JvY",
        "outputId": "f3a24d42-168b-4653-b096-abeea11a322c"
      },
      "execution_count": null,
      "outputs": [
        {
          "output_type": "stream",
          "name": "stdout",
          "text": [
            "apple\n",
            "apple\n",
            "banana\n",
            "orange\n",
            "orange\n",
            "pear\n"
          ]
        }
      ]
    },
    {
      "cell_type": "code",
      "source": [
        "basket = ['apple', 'orange', 'apple', 'pear', 'orange', 'banana']\n",
        "for f in sorted(set(basket)):\n",
        "    print(f)"
      ],
      "metadata": {
        "colab": {
          "base_uri": "https://localhost:8080/"
        },
        "id": "PmHiwo1U9PTG",
        "outputId": "a642ba40-ee45-4516-cc70-87abcf920aeb"
      },
      "execution_count": null,
      "outputs": [
        {
          "output_type": "stream",
          "name": "stdout",
          "text": [
            "apple\n",
            "banana\n",
            "orange\n",
            "pear\n"
          ]
        }
      ]
    },
    {
      "cell_type": "markdown",
      "source": [
        "https://docs.python.org/3/tutorial/datastructures.html"
      ],
      "metadata": {
        "id": "sHD8F2YU9RdH"
      }
    }
  ]
}