{
  "nbformat": 4,
  "nbformat_minor": 0,
  "metadata": {
    "colab": {
      "provenance": [],
      "authorship_tag": "ABX9TyMYaiHJXO7fcnQYd4EFprBZ",
      "include_colab_link": true
    },
    "kernelspec": {
      "name": "python3",
      "display_name": "Python 3"
    },
    "language_info": {
      "name": "python"
    }
  },
  "cells": [
    {
      "cell_type": "markdown",
      "metadata": {
        "id": "view-in-github",
        "colab_type": "text"
      },
      "source": [
        "<a href=\"https://colab.research.google.com/github/Nahgalvao/Basic_Python/blob/main/Repetitions.ipynb\" target=\"_parent\"><img src=\"https://colab.research.google.com/assets/colab-badge.svg\" alt=\"Open In Colab\"/></a>"
      ]
    },
    {
      "cell_type": "markdown",
      "source": [
        "#Repetitions"
      ],
      "metadata": {
        "id": "hM4tC0WLnrGG"
      }
    },
    {
      "cell_type": "code",
      "source": [
        "num = float(input(\"Enter the number; \"))\n",
        "\n",
        "if num >= 0:\n",
        "   if num == 0:\n",
        "     print(\"zero\")\n",
        "   else:\n",
        "     print(\"Positive number\")\n",
        "else:\n",
        "   print(\"Negative number\")"
      ],
      "metadata": {
        "colab": {
          "base_uri": "https://localhost:8080/"
        },
        "id": "TL1gg9d9nuxr",
        "outputId": "8546151d-d756-41e2-9f9e-29f94d04646b"
      },
      "execution_count": null,
      "outputs": [
        {
          "output_type": "stream",
          "name": "stdout",
          "text": [
            "Enter the number; 0\n",
            "zero\n"
          ]
        }
      ]
    },
    {
      "cell_type": "code",
      "source": [
        "x = 1\n",
        "while x <= 15:\n",
        "  print(x)\n",
        "  x = x + 1"
      ],
      "metadata": {
        "colab": {
          "base_uri": "https://localhost:8080/"
        },
        "id": "d72UhXqwnyyW",
        "outputId": "307c6053-edb9-4938-8d1f-73b9decf2873"
      },
      "execution_count": null,
      "outputs": [
        {
          "output_type": "stream",
          "name": "stdout",
          "text": [
            "1\n",
            "2\n",
            "3\n",
            "4\n",
            "5\n",
            "6\n",
            "7\n",
            "8\n",
            "9\n",
            "10\n",
            "11\n",
            "12\n",
            "13\n",
            "14\n",
            "15\n"
          ]
        }
      ]
    },
    {
      "cell_type": "code",
      "source": [
        "counter = 0\n",
        "\n",
        "while counter < 4:\n",
        "   print(\"Inside the while\")\n",
        "   counter = counter + 1\n",
        "else:\n",
        "   print(\"Inside the else\")"
      ],
      "metadata": {
        "colab": {
          "base_uri": "https://localhost:8080/"
        },
        "id": "XrQQ1aX6n8qI",
        "outputId": "38540efd-1bb0-4022-c277-2a638a453e30"
      },
      "execution_count": null,
      "outputs": [
        {
          "output_type": "stream",
          "name": "stdout",
          "text": [
            "Inside the while\n",
            "Inside the while\n",
            "Inside the while\n",
            "Inside the while\n",
            "Inside the else\n"
          ]
        }
      ]
    },
    {
      "cell_type": "code",
      "source": [
        "counter = 0\n",
        "\n",
        "while counter < 4:\n",
        "   print(\"Inside the while\")\n",
        "   counter += 1\n",
        "else:\n",
        "   print(\"Inside the else\")"
      ],
      "metadata": {
        "colab": {
          "base_uri": "https://localhost:8080/"
        },
        "id": "YF0JgRMWoAP8",
        "outputId": "6b1e0d9d-6110-4067-9308-5d678980531e"
      },
      "execution_count": null,
      "outputs": [
        {
          "output_type": "stream",
          "name": "stdout",
          "text": [
            "Inside the while\n",
            "Inside the while\n",
            "Inside the while\n",
            "Inside the while\n",
            "Inside the else\n"
          ]
        }
      ]
    },
    {
      "cell_type": "markdown",
      "source": [
        "#Exercises"
      ],
      "metadata": {
        "id": "gm9-8EgvoMbo"
      }
    },
    {
      "cell_type": "markdown",
      "source": [
        "##1) Print countdown to 10 for rocket launch"
      ],
      "metadata": {
        "id": "ANU-q_4VoP0u"
      }
    },
    {
      "cell_type": "code",
      "source": [
        "x = 10\n",
        "while x >=0:\n",
        "   print(x)\n",
        "   x = x - 1\n",
        "else:\n",
        "   print(\"Fire\")"
      ],
      "metadata": {
        "colab": {
          "base_uri": "https://localhost:8080/"
        },
        "id": "pNxFy4pXoHZx",
        "outputId": "7deb6532-a91f-4c2b-8474-78dc7aacd719"
      },
      "execution_count": null,
      "outputs": [
        {
          "output_type": "stream",
          "name": "stdout",
          "text": [
            "10\n",
            "9\n",
            "8\n",
            "7\n",
            "6\n",
            "5\n",
            "4\n",
            "3\n",
            "2\n",
            "1\n",
            "0\n",
            "Fire\n"
          ]
        }
      ]
    },
    {
      "cell_type": "code",
      "source": [
        "counter = 10\n",
        "\n",
        "while counter >= 0:\n",
        "   print(counter)\n",
        "   counter -= 1\n",
        "else:\n",
        "   print(\"Fire\")"
      ],
      "metadata": {
        "colab": {
          "base_uri": "https://localhost:8080/"
        },
        "id": "nEuNjc9KoYeF",
        "outputId": "4daf4251-2750-47ca-83f7-65a15246f742"
      },
      "execution_count": null,
      "outputs": [
        {
          "output_type": "stream",
          "name": "stdout",
          "text": [
            "10\n",
            "9\n",
            "8\n",
            "7\n",
            "6\n",
            "5\n",
            "4\n",
            "3\n",
            "2\n",
            "1\n",
            "0\n",
            "Fire\n"
          ]
        }
      ]
    },
    {
      "cell_type": "markdown",
      "source": [
        "##2) How many even numbers are in an interval?"
      ],
      "metadata": {
        "id": "nVitMoP-ofdB"
      }
    },
    {
      "cell_type": "code",
      "source": [
        "num1 = int(input(\"Enter the initial value: \"))\n",
        "num2 = int(input(\"Enter the final value: \"))\n",
        "\n",
        "counter_pairs = 0\n",
        "while num1 <= num2:\n",
        "   if num1 % 2 == 0:\n",
        "     counter_pairs += 1\n",
        "   num1 += 1\n",
        "print(counter_pairs)"
      ],
      "metadata": {
        "colab": {
          "base_uri": "https://localhost:8080/"
        },
        "id": "VD4NRarKob0g",
        "outputId": "8902a687-1767-4b8c-804e-e99051237e83"
      },
      "execution_count": null,
      "outputs": [
        {
          "output_type": "stream",
          "name": "stdout",
          "text": [
            "Enter the initial value: 10\n",
            "Enter the final value: 20\n",
            "6\n"
          ]
        }
      ]
    },
    {
      "cell_type": "code",
      "source": [
        "factorial = 5\n",
        "\n",
        "while factorial >= 0:\n",
        "   print(factorial)\n",
        "   factorial -= 1\n",
        "else:\n",
        "   print(\"Fog\")"
      ],
      "metadata": {
        "colab": {
          "base_uri": "https://localhost:8080/"
        },
        "id": "ynYg-UPaokVb",
        "outputId": "6f563e21-edc1-44b0-c519-5595662a0ab7"
      },
      "execution_count": null,
      "outputs": [
        {
          "output_type": "stream",
          "name": "stdout",
          "text": [
            "5\n",
            "4\n",
            "3\n",
            "2\n",
            "1\n",
            "0\n",
            "Fog\n"
          ]
        }
      ]
    },
    {
      "cell_type": "code",
      "source": [
        "n = int(input(\"Enter integer value: \"))\n",
        "num = n\n",
        "result = 1\n",
        "\n",
        "if n < 0:\n",
        "   print(\"It is not possible to calculate factorial of a negative number\")\n",
        "elif n == 0:\n",
        "   print(\"The factorial of 0 is 1\")\n",
        "else:\n",
        "   while n>1:\n",
        "     result = result * n\n",
        "     n -= 1\n",
        "   print(f\"The factorial value of {num} is {result}\")"
      ],
      "metadata": {
        "colab": {
          "base_uri": "https://localhost:8080/"
        },
        "id": "gPa4SUHIos1K",
        "outputId": "2b34d0df-6fe7-461f-fcdd-6aa96c004548"
      },
      "execution_count": null,
      "outputs": [
        {
          "output_type": "stream",
          "name": "stdout",
          "text": [
            "Enter integer value: 6\n",
            "The factorial value of 6 is 720\n"
          ]
        }
      ]
    },
    {
      "cell_type": "markdown",
      "source": [
        "##Interrupting the repeat\n",
        "##3) Sum calculator, inserting the concept of break"
      ],
      "metadata": {
        "id": "2J8pBjXUpRly"
      }
    },
    {
      "cell_type": "code",
      "source": [
        "sum = 0\n",
        "\n",
        "while True:\n",
        "   value = int(input(\"Enter a number to add or 0 to leave: \"))\n",
        "   if value == 0:\n",
        "     break\n",
        "   sum = sum + value\n",
        "print(sum)"
      ],
      "metadata": {
        "colab": {
          "base_uri": "https://localhost:8080/"
        },
        "id": "gpriLDQ9owrN",
        "outputId": "599928bb-02bc-4a60-b00a-516413f48b02"
      },
      "execution_count": null,
      "outputs": [
        {
          "output_type": "stream",
          "name": "stdout",
          "text": [
            "Enter a number to add or 0 to leave: 10\n",
            "Enter a number to add or 0 to leave: 20\n",
            "Enter a number to add or 0 to leave: 30\n",
            "Enter a number to add or 0 to leave: 0\n",
            "60\n"
          ]
        }
      ]
    },
    {
      "cell_type": "markdown",
      "source": [
        "##4) Sum and average calculator"
      ],
      "metadata": {
        "id": "IyhWErY2poRv"
      }
    },
    {
      "cell_type": "code",
      "source": [
        "sum = 0\n",
        "n = 0\n",
        "\n",
        "while True:\n",
        "   value = int(input(\"Enter a number to add or 0 to leave: \"))\n",
        "   if value == 0:\n",
        "     break\n",
        "   sum = sum + value\n",
        "   n = n + 1\n",
        "   print(f\"The sum of the entered numbers was {sum}\")\n",
        "   print(f\"The number of values entered was {n}\")\n",
        "   print(f\"The arithmetic mean of the entered numbers was {sum/n}\")"
      ],
      "metadata": {
        "colab": {
          "base_uri": "https://localhost:8080/"
        },
        "id": "HOtja3G-o1l1",
        "outputId": "8de2fbe2-357f-4934-da1a-9a13e75ee6f6"
      },
      "execution_count": null,
      "outputs": [
        {
          "name": "stdout",
          "output_type": "stream",
          "text": [
            "Enter a number to add or 0 to leave: 10\n",
            "The sum of the entered numbers was 10\n",
            "The number of values entered was 1\n",
            "The arithmetic mean of the entered numbers was 10.0\n",
            "Enter a number to add or 0 to leave: 5\n",
            "The sum of the entered numbers was 15\n",
            "The number of values entered was 2\n",
            "The arithmetic mean of the entered numbers was 7.5\n",
            "Enter a number to add or 0 to leave: 7\n",
            "The sum of the entered numbers was 22\n",
            "The number of values entered was 3\n",
            "The arithmetic mean of the entered numbers was 7.333333333333333\n",
            "Enter a number to add or 0 to leave: 5\n",
            "The sum of the entered numbers was 27\n",
            "The number of values entered was 4\n",
            "The arithmetic mean of the entered numbers was 6.75\n",
            "Enter a number to add or 0 to leave: 0\n"
          ]
        }
      ]
    }
  ]
}