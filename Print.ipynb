{
  "nbformat": 4,
  "nbformat_minor": 0,
  "metadata": {
    "colab": {
      "provenance": [],
      "authorship_tag": "ABX9TyNYJh7wYFJbvFoLJWNRvm02",
      "include_colab_link": true
    },
    "kernelspec": {
      "name": "python3",
      "display_name": "Python 3"
    },
    "language_info": {
      "name": "python"
    }
  },
  "cells": [
    {
      "cell_type": "markdown",
      "metadata": {
        "id": "view-in-github",
        "colab_type": "text"
      },
      "source": [
        "<a href=\"https://colab.research.google.com/github/Nahgalvao/Basic_Python/blob/main/Print.ipynb\" target=\"_parent\"><img src=\"https://colab.research.google.com/assets/colab-badge.svg\" alt=\"Open In Colab\"/></a>"
      ]
    },
    {
      "cell_type": "markdown",
      "source": [
        "#Print"
      ],
      "metadata": {
        "id": "j-10QfvoNy3N"
      }
    },
    {
      "cell_type": "code",
      "source": [
        "print(\"Hello word\")"
      ],
      "metadata": {
        "colab": {
          "base_uri": "https://localhost:8080/"
        },
        "id": "nDVNlXu_N6cf",
        "outputId": "90ab970a-3a43-4ff8-bd36-b5ab8ff4a998"
      },
      "execution_count": null,
      "outputs": [
        {
          "output_type": "stream",
          "name": "stdout",
          "text": [
            "Hello word\n"
          ]
        }
      ]
    },
    {
      "cell_type": "code",
      "source": [
        "# This is my first program\n",
        "print (\"Hello\") # to write words use double quotes or single quotes"
      ],
      "metadata": {
        "colab": {
          "base_uri": "https://localhost:8080/"
        },
        "id": "zB-Zk5EVN-ei",
        "outputId": "a561b983-4afc-41cd-c524-739583baca2e"
      },
      "execution_count": null,
      "outputs": [
        {
          "output_type": "stream",
          "name": "stdout",
          "text": [
            "Hello\n"
          ]
        }
      ]
    },
    {
      "cell_type": "code",
      "source": [
        "# let's try something different\n",
        "a = \"hello\"\n",
        "b = \"World\"\n",
        "print (a + b)"
      ],
      "metadata": {
        "colab": {
          "base_uri": "https://localhost:8080/"
        },
        "id": "MrsesQ0sOVRP",
        "outputId": "cf59089b-0720-43d3-a907-b5a2397bfc56"
      },
      "execution_count": null,
      "outputs": [
        {
          "output_type": "stream",
          "name": "stdout",
          "text": [
            "helloWorld\n"
          ]
        }
      ]
    }
  ]
}